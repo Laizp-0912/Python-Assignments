{
 "cells": [
  {
   "cell_type": "code",
   "execution_count": 1,
   "id": "287f7401",
   "metadata": {},
   "outputs": [
    {
     "name": "stdout",
     "output_type": "stream",
     "text": [
      "Enter the first number:1\n",
      "Enter the second number:2\n",
      "Enter an operation(+,-,*,/):+\n",
      "The result is: 3.0\n",
      "Thank you for using this simple calculator\n"
     ]
    }
   ],
   "source": [
    "def simple_calculator():\n",
    "    while True:\n",
    "        try:\n",
    "            x = float(input('Enter the first number:'))\n",
    "            y = float(input('Enter the second number:'))\n",
    "            operation = input('Enter an operation(+,-,*,/):')\n",
    "        \n",
    "            if operation == '+':\n",
    "                result = x + y\n",
    "            elif operation == '-':\n",
    "                result = x - y\n",
    "            elif operation == 'x':\n",
    "                result = x * y\n",
    "            elif operation == '/':\n",
    "                result = x / y\n",
    "            else:\n",
    "                print('Invalid operation. Please choose +, -, x, /')\n",
    "                continue\n",
    "            \n",
    "            print(f\"The result is: {result}\")\n",
    "            break\n",
    "        except ValueError:\n",
    "            print(\"Invalid input. Please enter a number.\")\n",
    "        except ZeroDivisionError:\n",
    "            print(\"Invalid input. Division by zero is not allowed.\")\n",
    "        except:\n",
    "            print(\"There are something wrong with the input, please try again.\")\n",
    "        finally:\n",
    "            print(\"Thank you for using this simple calculator\")\n",
    "        \n",
    "simple_calculator()           "
   ]
  },
  {
   "cell_type": "code",
   "execution_count": 2,
   "id": "7f8c155e",
   "metadata": {},
   "outputs": [
    {
     "name": "stdout",
     "output_type": "stream",
     "text": [
      "Enter the first number:1\n",
      "Enter the second number:2\n",
      "Enter an operation(+,-,*,/):l\n",
      "Invalid operation. Please choose +, -, x, /\n",
      "Thank you for using this simple calculator\n",
      "Enter the first number:2\n",
      "Enter the second number:5\n",
      "Enter an operation(+,-,*,/):6\n",
      "Invalid operation. Please choose +, -, x, /\n",
      "Thank you for using this simple calculator\n",
      "Enter the first number:3\n",
      "Enter the second number:0.5\n",
      "Enter an operation(+,-,*,/):/\n",
      "The result is: 6.0\n",
      "Thank you for using this simple calculator\n"
     ]
    }
   ],
   "source": [
    "def simple_calculator():\n",
    "    while True:\n",
    "        try:\n",
    "            x = float(input('Enter the first number:'))\n",
    "            y = float(input('Enter the second number:'))\n",
    "            operation = input('Enter an operation(+,-,*,/):')\n",
    "        \n",
    "            if operation == '+':\n",
    "                result = x + y\n",
    "            elif operation == '-':\n",
    "                result = x - y\n",
    "            elif operation == 'x':\n",
    "                result = x * y\n",
    "            elif operation == '/':\n",
    "                result = x / y\n",
    "            else:\n",
    "                print('Invalid operation. Please choose +, -, x, /')\n",
    "                continue\n",
    "            \n",
    "            print(f\"The result is: {result}\")\n",
    "            break\n",
    "        except ValueError:\n",
    "            print(\"Invalid input. Please enter a number.\")\n",
    "        except ZeroDivisionError:\n",
    "            print(\"Invalid input. Division by zero is not allowed.\")\n",
    "        except:\n",
    "            print(\"There are something wrong with the input, please try again.\")\n",
    "        finally:\n",
    "            print(\"Thank you for using this simple calculator\")\n",
    "        \n",
    "simple_calculator()           "
   ]
  },
  {
   "cell_type": "code",
   "execution_count": null,
   "id": "e8f960b0",
   "metadata": {},
   "outputs": [],
   "source": []
  }
 ],
 "metadata": {
  "kernelspec": {
   "display_name": "Python 3 (ipykernel)",
   "language": "python",
   "name": "python3"
  },
  "language_info": {
   "codemirror_mode": {
    "name": "ipython",
    "version": 3
   },
   "file_extension": ".py",
   "mimetype": "text/x-python",
   "name": "python",
   "nbconvert_exporter": "python",
   "pygments_lexer": "ipython3",
   "version": "3.11.5"
  }
 },
 "nbformat": 4,
 "nbformat_minor": 5
}
