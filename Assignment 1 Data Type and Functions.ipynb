{
 "cells": [
  {
   "cell_type": "code",
   "execution_count": 1,
   "id": "f2992158",
   "metadata": {},
   "outputs": [
    {
     "name": "stdout",
     "output_type": "stream",
     "text": [
      "30\n",
      "10\n",
      "200\n",
      "2.0\n"
     ]
    }
   ],
   "source": [
    "def sum(a,b):\n",
    "    #a fucntion that adds two parameters\n",
    "    return a+b\n",
    "\n",
    "def sub(a,b):\n",
    "    #a fucntion that subtracts two parameters\n",
    "    return a-b\n",
    "\n",
    "def mult(a,b):\n",
    "    #a fucntion that multiplies two parameters\n",
    "    return a*b\n",
    "\n",
    "def div(a,b):\n",
    "    #a fucntion that divides two parameters\n",
    "    return a/b\n",
    "\n",
    "\n",
    "print(sum(20,10))\n",
    "print(sub(20,10))\n",
    "print(mult(20,10))\n",
    "print(div(20,10))"
   ]
  },
  {
   "cell_type": "code",
   "execution_count": 2,
   "id": "2cbddbe9",
   "metadata": {},
   "outputs": [
    {
     "name": "stdout",
     "output_type": "stream",
     "text": [
      "Please enter the name of the subjectOrange pie\n",
      "the subject is available\n"
     ]
    }
   ],
   "source": [
    "subjects = [\"Orange pie\",\"Apple pie\", \"Chocolate pie\"]\n",
    "\n",
    "def subject_availability(subject_name):\n",
    "    if(is_available(subject_name)):\n",
    "        return \"the subject is available\"\n",
    "    else:\n",
    "        return \"the subject is unavailable\"\n",
    "    \n",
    "    \n",
    "def is_available(subject_name):\n",
    "    return subject_name in subjects\n",
    "\n",
    "\n",
    "input_subjects = input (\"Please enter the name of the subject\")\n",
    "print(subject_availability(input_subjects))"
   ]
  },
  {
   "cell_type": "code",
   "execution_count": null,
   "id": "2bda4210",
   "metadata": {},
   "outputs": [],
   "source": []
  }
 ],
 "metadata": {
  "kernelspec": {
   "display_name": "Python 3 (ipykernel)",
   "language": "python",
   "name": "python3"
  },
  "language_info": {
   "codemirror_mode": {
    "name": "ipython",
    "version": 3
   },
   "file_extension": ".py",
   "mimetype": "text/x-python",
   "name": "python",
   "nbconvert_exporter": "python",
   "pygments_lexer": "ipython3",
   "version": "3.11.5"
  }
 },
 "nbformat": 4,
 "nbformat_minor": 5
}
