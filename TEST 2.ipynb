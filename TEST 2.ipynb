{
 "cells": [
  {
   "cell_type": "markdown",
   "id": "fdaecfcb",
   "metadata": {},
   "source": [
    "# Question 1"
   ]
  },
  {
   "cell_type": "code",
   "execution_count": 17,
   "id": "a523d5a9",
   "metadata": {},
   "outputs": [
    {
     "name": "stdout",
     "output_type": "stream",
     "text": [
      "[[1.        ]\n",
      " [0.92161056]\n",
      " [0.72142238]\n",
      " [0.4796524 ]\n",
      " [0.27086839]\n",
      " [0.12992262]\n",
      " [0.05293051]\n",
      " [0.01831565]]\n"
     ]
    },
    {
     "data": {
      "text/plain": [
       "<function matplotlib.pyplot.show(close=None, block=None)>"
      ]
     },
     "execution_count": 17,
     "metadata": {},
     "output_type": "execute_result"
    },
    {
     "data": {
      "image/png": "[encoded data removed]",
      "text/plain": [
       "<Figure size 640x480 with 1 Axes>"
      ]
     },
     "metadata": {},
     "output_type": "display_data"
    }
   ],
   "source": [
    "#importing libraries\n",
    "import numpy as np\n",
    "import scipy as sc\n",
    "import matplotlib.pyplot as plt\n",
    "\n",
    "#initial condition \n",
    "y0 = 1\n",
    "\n",
    "#define differential equation \n",
    "def dydt(y,t):\n",
    "    dydt = (-2*y*t)\n",
    "    return dydt\n",
    "\n",
    "#create x axis for integration\n",
    "start=0\n",
    "end=2\n",
    "t= np.linspace (start,end,8)\n",
    "\n",
    "#integrating differential equation \n",
    "Y = sc.integrate.odeint (dydt, y0, t)\n",
    "\n",
    "print (Y)\n",
    "\n",
    "#Plotting the results \n",
    "plt.figure()\n",
    "plt.plot(t,Y,'r',label='dydt')\n",
    "plt.title ('y(t) versus (t)')\n",
    "plt.xlabel ('t')\n",
    "plt.ylabel ('y(t)')\n",
    "plt.legend\n",
    "plt.show\n"
   ]
  },
  {
   "cell_type": "markdown",
   "id": "04ebc2be",
   "metadata": {},
   "source": [
    "# Question 2 "
   ]
  },
  {
   "cell_type": "code",
   "execution_count": 11,
   "id": "140fc80e",
   "metadata": {},
   "outputs": [
    {
     "name": "stdout",
     "output_type": "stream",
     "text": [
      "[ 4.5 -7.5  6.5]\n"
     ]
    }
   ],
   "source": [
    "#import libraries \n",
    "import numpy as np\n",
    "import scipy as sc\n",
    "\n",
    "#define matrix A and B \n",
    "A= np.array ([[2,4,6],[5,3,2],[7,8,9]])\n",
    "B= np.array ([18,13,30])\n",
    "\n",
    "#solve the matrix by using numpy\n",
    "C= np.linalg.solve (A,B)\n",
    "\n",
    "print (C)\n"
   ]
  },
  {
   "cell_type": "markdown",
   "id": "12486590",
   "metadata": {},
   "source": [
    "# Question 3"
   ]
  },
  {
   "cell_type": "code",
   "execution_count": 35,
   "id": "06723868",
   "metadata": {},
   "outputs": [],
   "source": [
    "#import libraries\n",
    "import matplotlib.pyplot as plt\n",
    "\n",
    "#import url link to obtain the data from it \n",
    "import requests \n",
    "\n",
    "def main():\n",
    "    api_url =\"https://api.open-meteo.com/v1/forecast?latitude=2.5&longitude=112.5&hourly=temperature_2m&timezone=Asia%2FSingapore&forecast_days=1\" \n",
    "    response = requests.get(api_url)\n",
    "    hour_temp_data= response.json()\n",
    "    print (hour_temp_data)\n",
    "    \n",
    "    if response.ok:\n",
    "        while True:\n",
    "            days= input (\"Enter the number of days:\")\n",
    "            if not days:\n",
    "                break\n",
    "            if\n",
    "            else:\n",
    "                print (\"Its not found in data\")\n",
    "\n",
    "#code for hanling error \n",
    "except ValueError:\n",
    "    print (\"Your data inserted is not correct\")\n",
    "    \n",
    "print (main)\n",
    "\n",
    "#plotting the results \n",
    "plt.figure()\n",
    "plt.plot\n",
    "plt.title ('Temperature versus Time')\n",
    "plt.xlabel ('time range')\n",
    "plt.ylabel ('temperature')\n",
    "plt.grid (True, which='both',linestyle =\"--\",linewidth=0.5)\n",
    "plt show()"
   ]
  },
  {
   "cell_type": "code",
   "execution_count": null,
   "id": "78ba6b62",
   "metadata": {},
   "outputs": [],
   "source": []
  }
 ],
 "metadata": {
  "kernelspec": {
   "display_name": "Python 3 (ipykernel)",
   "language": "python",
   "name": "python3"
  },
  "language_info": {
   "codemirror_mode": {
    "name": "ipython",
    "version": 3
   },
   "file_extension": ".py",
   "mimetype": "text/x-python",
   "name": "python",
   "nbconvert_exporter": "python",
   "pygments_lexer": "ipython3",
   "version": "3.11.5"
  }
 },
 "nbformat": 4,
 "nbformat_minor": 5
}
